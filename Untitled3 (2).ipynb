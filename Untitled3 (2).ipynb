{
  "nbformat": 4,
  "nbformat_minor": 0,
  "metadata": {
    "colab": {
      "provenance": []
    },
    "kernelspec": {
      "name": "python3",
      "display_name": "Python 3"
    },
    "language_info": {
      "name": "python"
    }
  },
  "cells": [
    {
      "cell_type": "code",
      "source": [
        "1=int(input(\"enter a value\"))\n",
        "for i in range (1,11):\n",
        "  print(i)"
      ],
      "metadata": {
        "colab": {
          "base_uri": "https://localhost:8080/"
        },
        "id": "FnLNHFIg0mp7",
        "outputId": "a6f18acc-77cf-4a7f-8817-ffaf824ce256"
      },
      "execution_count": 2,
      "outputs": [
        {
          "output_type": "stream",
          "name": "stdout",
          "text": [
            "enter a value2\n",
            "1\n",
            "2\n",
            "3\n",
            "4\n",
            "5\n",
            "6\n",
            "7\n",
            "8\n",
            "9\n",
            "10\n"
          ]
        }
      ]
    },
    {
      "cell_type": "code",
      "source": [
        "i=int(input(\"enter a value\"))\n",
        "for i in range (1,11):\n",
        "  j=i*2\n",
        "  print(j)"
      ],
      "metadata": {
        "colab": {
          "base_uri": "https://localhost:8080/"
        },
        "id": "6-RNapAn3yDf",
        "outputId": "a599befb-6fde-42e9-89b8-f4281b928e81"
      },
      "execution_count": 4,
      "outputs": [
        {
          "output_type": "stream",
          "name": "stdout",
          "text": [
            "enter a value2\n",
            "2\n",
            "4\n",
            "6\n",
            "8\n",
            "10\n",
            "12\n",
            "14\n",
            "16\n",
            "18\n",
            "20\n"
          ]
        }
      ]
    },
    {
      "cell_type": "code",
      "source": [
        "i=int(input(\"enter a value\"))\n",
        "for i in range (1,11,2):\n",
        "  j=i*2\n",
        "  print(j)"
      ],
      "metadata": {
        "colab": {
          "base_uri": "https://localhost:8080/"
        },
        "id": "-z7hVmdU4HoT",
        "outputId": "c84d643f-f2cc-457b-b413-8785f91c31a9"
      },
      "execution_count": 7,
      "outputs": [
        {
          "output_type": "stream",
          "name": "stdout",
          "text": [
            "enter a value2\n",
            "2\n",
            "6\n",
            "10\n",
            "14\n",
            "18\n"
          ]
        }
      ]
    },
    {
      "cell_type": "code",
      "source": [
        "i=int(input(\"enter a value\"))\n",
        "for k in range (1,11):\n",
        "  j=i*k\n",
        "  print(i,\"*\", k,\"=\", j)"
      ],
      "metadata": {
        "colab": {
          "base_uri": "https://localhost:8080/"
        },
        "id": "Ph8Y-4Z-4W9L",
        "outputId": "3eb0b26a-98bc-4cd6-eda4-3c7e67cf157e"
      },
      "execution_count": 12,
      "outputs": [
        {
          "output_type": "stream",
          "name": "stdout",
          "text": [
            "enter a value2\n",
            "2 * 1 = 2\n",
            "2 * 2 = 4\n",
            "2 * 3 = 6\n",
            "2 * 4 = 8\n",
            "2 * 5 = 10\n",
            "2 * 6 = 12\n",
            "2 * 7 = 14\n",
            "2 * 8 = 16\n",
            "2 * 9 = 18\n",
            "2 * 10 = 20\n"
          ]
        }
      ]
    },
    {
      "cell_type": "code",
      "source": [
        "i=int(input(\"enter a value\"))\n",
        "for i in range (1,50):\n",
        "  if i>=30:\n",
        "      break\n",
        "      print(i)\n",
        "  else:\n",
        "      (\"range executed\")"
      ],
      "metadata": {
        "colab": {
          "base_uri": "https://localhost:8080/"
        },
        "id": "-CQ16jUg6kDy",
        "outputId": "e2a2614b-e200-4058-a366-7d013554a8f1"
      },
      "execution_count": 37,
      "outputs": [
        {
          "name": "stdout",
          "output_type": "stream",
          "text": [
            "enter a value30\n"
          ]
        }
      ]
    },
    {
      "cell_type": "code",
      "source": [
        "print(\"this is a online libray\")\n",
        "library_card=int(input(\"enter your library card number\"))\n",
        "book_available=(\"harry potter /n lord of rings /n enola holmes /n stranger things /n friends\")\n",
        "chosen_book=str(input(\"enter any book u want\"))\n",
        "harry_potter_books=\"Harry Potter and the Philosopher's Stone (2001)/n Harry Potter and the Chamber of Secrets (2002) /n Harry Potter and the Prisoner of Azkaban (2004)\"\n",
        "lord_ofthe_rings=\"The Lord of the Rings /n The Fellowship of the Ring /n the wizard Gandalf the Grey.\"\n",
        "enola_holmes=\"enola holmes1 /n enola holmes2\"\n",
        "stranger_things=\"Stranger Things season 1 (2016) /n Stranger Things season 2 (2017) /n Stranger Things season 3 (2019) /n Stranger Things season 4 part one (2022) /n Stranger Things season 4 part two (2022)\"\n",
        "friends=\"friends1 /n friends2 /n friends3\"\n",
        "if (chosen_book==\"harry potter\"):\n",
        "  print(harry_potter_books)\n",
        "elif (chosen_book==\"lord of the rings\"):\n",
        "  print(lord_ofthe_rings)\n",
        "elif (chosen_book==\"stranger_things\"):\n",
        "  print(stranger_things)\n",
        "elif (chosen_book==\"friends\"):\n",
        "  print(friends)\n",
        "else:\n",
        "  print(\"wrong book nor available \")\n",
        "copy=int(input(\"enter how many copies do u want (max 4)\"))\n",
        "while copy<=5:\n",
        "    print(\"your copy has been done\")\n",
        "    break\n",
        "\n",
        "\n",
        "\n",
        "\n",
        "\n"
      ],
      "metadata": {
        "colab": {
          "base_uri": "https://localhost:8080/"
        },
        "id": "eHCiTSFs9b3r",
        "outputId": "df03e832-6599-4f4c-a787-4f54debce7a0"
      },
      "execution_count": 76,
      "outputs": [
        {
          "output_type": "stream",
          "name": "stdout",
          "text": [
            "this is a online libray\n",
            "enter your library card number444\n",
            "enter any book u wantharry potter\n",
            "Harry Potter and the Philosopher's Stone (2001)/n Harry Potter and the Chamber of Secrets (2002) /n Harry Potter and the Prisoner of Azkaban (2004)\n",
            "enter how many copies do u want (max 4)3\n",
            "your copy has been done\n"
          ]
        }
      ]
    },
    {
      "cell_type": "code",
      "source": [],
      "metadata": {
        "id": "PFeRVQdSVmmZ"
      },
      "execution_count": null,
      "outputs": []
    }
  ]
}